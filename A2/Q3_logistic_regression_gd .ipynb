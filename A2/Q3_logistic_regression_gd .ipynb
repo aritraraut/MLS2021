{
 "cells": [
  {
   "cell_type": "markdown",
   "metadata": {},
   "source": [
    "# Aritra Raut"
   ]
  },
  {
   "cell_type": "code",
   "execution_count": 2,
   "metadata": {},
   "outputs": [],
   "source": [
    "import numpy as np\n",
    "import pandas as pd\n",
    "from matplotlib import pyplot as plt\n",
    "import sklearn.datasets\n",
    "from sklearn.model_selection import  train_test_split"
   ]
  },
  {
   "cell_type": "code",
   "execution_count": 3,
   "metadata": {},
   "outputs": [],
   "source": [
    "# load load_breast_cancer\n",
    "dat = sklearn.datasets.load_breast_cancer()\n",
    "ix = np.where(dat[\"feature_names\"] == \"mean area\")[0][0]\n",
    "iy = np.where(dat[\"feature_names\"] == \"mean concave points\")[0][0]"
   ]
  },
  {
   "cell_type": "code",
   "execution_count": 4,
   "metadata": {},
   "outputs": [],
   "source": [
    "x0 = np.asarray([dat[\"data\"][:,ix], dat[\"data\"][:,iy], np.ones(dat[\"data\"].shape[0])]).T\n",
    "y0 = (1.*(dat[\"target\"]==np.where(dat[\"target_names\"] == \"malignant\")[0][0]) +\n",
    "     0.0*(dat[\"target\"]==np.where(dat[\"target_names\"] == \"benign\")[0][0]))"
   ]
  },
  {
   "cell_type": "code",
   "execution_count": 5,
   "metadata": {},
   "outputs": [],
   "source": [
    "# normalize (use StandardScaler if you wish)\n",
    "def normalize_data(X, normalize_cols):\n",
    "    mean_X = X[:,normalize_cols].mean(axis=0)\n",
    "    std_X = X[:,normalize_cols].std(axis=0)\n",
    "    X[:,normalize_cols] = (X[:,normalize_cols] - mean_X)/std_X\n",
    "    return mean_X, std_X\n",
    "\n",
    "def unnormalize_theta(theta, normalize_cols, mean_std):\n",
    "    theta[normalize_cols] /= mean_std[1]\n",
    "    theta[-1] -= theta[normalize_cols] @ mean_std[0]"
   ]
  },
  {
   "cell_type": "code",
   "execution_count": 6,
   "metadata": {},
   "outputs": [],
   "source": [
    "# partition with test size 0.3\n",
    "X_train, X_test, y_train, y_test = train_test_split(x0, y0, test_size=0.3, random_state=42)\n"
   ]
  },
  {
   "cell_type": "code",
   "execution_count": 7,
   "metadata": {},
   "outputs": [],
   "source": [
    "# fit logistic regression and draw ROC curve\n",
    "# use predict_log_proba()\n",
    "def h(x,theta):\n",
    "    sum2=0\n",
    "    for i in range(len(theta)):\n",
    "        sum2+=x[i]*theta[i]\n",
    "    return 1/(1+np.exp(-sum2)) \n",
    "\n",
    "def logistic(x,y):\n",
    "    theta=np.zeros(x.shape[1])\n",
    "    alpha=1\n",
    "    m=len(x)\n",
    "    for i in range(len(theta)):\n",
    "        for k in range(1000):\n",
    "            sum1=0\n",
    "            for j in range(m):\n",
    "                sum1+=(h(x[j,:],theta)-y[j])*x[j,i]\n",
    "            theta[i]+=alpha*sum1\n",
    "    return theta"
   ]
  },
  {
   "cell_type": "code",
   "execution_count": 8,
   "metadata": {},
   "outputs": [
    {
     "name": "stderr",
     "output_type": "stream",
     "text": [
      "/home/sysadm/Documents/datascience/venv/lib/python3.7/site-packages/ipykernel_launcher.py:7: RuntimeWarning: overflow encountered in exp\n",
      "  import sys\n"
     ]
    },
    {
     "name": "stdout",
     "output_type": "stream",
     "text": [
      "[-7.82050936e+02 -7.96569073e+06  1.01424189e+06]\n"
     ]
    }
   ],
   "source": [
    "X, y = X_train.copy(), y_train.copy()\n",
    "mean_std = normalize_data(X, [True, True, False])\n",
    "theta= logistic(X,y)\n",
    "unnormalize_theta(theta, [True, True, False], mean_std)\n",
    "print(theta)\n"
   ]
  },
  {
   "cell_type": "code",
   "execution_count": 12,
   "metadata": {},
   "outputs": [
    {
     "data": {
      "image/png": "[encoded data removed]",
      "text/plain": [
       "<Figure size 432x288 with 1 Axes>"
      ]
     },
     "metadata": {
      "needs_background": "light"
     },
     "output_type": "display_data"
    }
   ],
   "source": [
    "from sklearn.linear_model import LogisticRegression\n",
    "from sklearn.metrics import roc_curve, accuracy_score, precision_recall_curve, f1_score\n",
    "\n",
    "log_reg = LogisticRegression(random_state=42)\n",
    "log_reg.fit(X_train, y_train)\n",
    "ns_probs =[0 for _ in range(len(y_test))]\n",
    "#predict probabilities\n",
    "lr_probs = log_reg.predict_log_proba(X_test)\n",
    "lr_probs= lr_probs[:,1]\n",
    "# use predict_log_proba()\n",
    "\n",
    "#calculate roc curves\n",
    "ns_fpr, ns_tpr, _ = roc_curve(y_test,ns_probs)\n",
    "lr_fpr, lr_tpr, _ = roc_curve(y_test, lr_probs)\n",
    "\n",
    "clf = LogisticRegression(max_iter=1000)\n",
    "clf.fit(X_train, y_train)\n",
    "y_pred = clf.predict(X_test)\n",
    "\n",
    "plt.title(\"ROC curve\")\n",
    "plt.plot(ns_fpr,ns_tpr,'r--')\n",
    "plt.plot(lr_fpr,lr_tpr, marker='*')\n",
    "plt.show()"
   ]
  },
  {
   "cell_type": "code",
   "execution_count": null,
   "metadata": {},
   "outputs": [],
   "source": [
    "def plot_classification(theta):\n",
    "    x_range = [0,2600]\n",
    "    y_range = [0, 0.21]\n",
    "\n",
    "    # plot classifcation regions\n",
    "    grid=200\n",
    "    xx,yy = np.meshgrid(np.linspace(x_range[0], x_range[1], grid),\n",
    "                        np.linspace(y_range[0], y_range[1], grid))\n",
    "    X_ = np.array([np.ravel(xx), np.ravel(yy), np.ones(xx.size)]).T\n",
    "    zz = (X_ @ theta).reshape(grid,grid)\n",
    "    cs = plt.contourf(xx,yy,zz, zz,levels=[-100.0,0,100.0],alpha=0.2)\n",
    "    plt.contour(cs, colors='k')\n",
    "\n",
    "    s1 = plt.scatter(dat[\"data\"][:,ix][dat[\"target\"]==1], dat[\"data\"][:,iy][dat[\"target\"]==1], marker='x', color='C0')\n",
    "    s2 = plt.scatter(dat[\"data\"][:,ix][dat[\"target\"]==0], dat[\"data\"][:,iy][dat[\"target\"]==0], marker='+', color='C3')\n",
    "    plt.xlim([0,2600])\n",
    "    plt.ylim([0,0.21])\n",
    "    plt.xlabel(\"Mean Area\")\n",
    "    plt.ylabel(\"Mean Concave Points\")\n",
    "    plt.legend([s1,s2], ['Benign', 'Malignant'])"
   ]
  },
  {
   "cell_type": "code",
   "execution_count": 32,
   "metadata": {},
   "outputs": [
    {
     "data": {
      "image/png": "[encoded data removed]",
      "text/plain": [
       "<Figure size 432x288 with 1 Axes>"
      ]
     },
     "metadata": {
      "needs_background": "light"
     },
     "output_type": "display_data"
    }
   ],
   "source": [
    "plot_classification(theta)"
   ]
  },
  {
   "cell_type": "code",
   "execution_count": null,
   "metadata": {},
   "outputs": [],
   "source": [
    "# What happens to the \"score\" when C = 1, 1/10, 1/50, 1/100, 1/1000?\n",
    "C_param_range = [1,1/10,1/50,1/100,1/1000]\n",
    "\n",
    "acc_table = pd.DataFrame(columns = ['C_parameter','Accuracy'])\n",
    "acc_table['C_parameter'] = C_param_range\n",
    "\n",
    "j = 0\n",
    "for i in C_param_range:\n",
    "    \n",
    "    # Apply logistic regression model to training data\n",
    "    lr = LogisticRegression(penalty = 'l2', C = i,random_state = 42)\n",
    "    lr.fit(X_train,y_train)\n",
    "    \n",
    "    # Predict using model\n",
    "    y_pred = lr.predict(X_test)\n",
    "    \n",
    "    # Saving accuracy score in table\n",
    "    acc_table.iloc[j,1] = accuracy_score(y_test,y_pred)\n",
    "    j += 1\n",
    "\n",
    "print(acc_table)    "
   ]
  },
  {
   "cell_type": "code",
   "execution_count": null,
   "metadata": {},
   "outputs": [],
   "source": []
  }
 ],
 "metadata": {
  "kernelspec": {
   "display_name": "Python 3",
   "language": "python",
   "name": "python3"
  },
  "language_info": {
   "codemirror_mode": {
    "name": "ipython",
    "version": 3
   },
   "file_extension": ".py",
   "mimetype": "text/x-python",
   "name": "python",
   "nbconvert_exporter": "python",
   "pygments_lexer": "ipython3",
   "version": "3.7.3"
  }
 },
 "nbformat": 4,
 "nbformat_minor": 4
}
