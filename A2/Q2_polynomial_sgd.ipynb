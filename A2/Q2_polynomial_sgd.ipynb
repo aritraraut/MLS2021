{
 "cells": [
  {
   "cell_type": "markdown",
   "metadata": {},
   "source": [
    "# Aritra Raut"
   ]
  },
  {
   "cell_type": "code",
   "execution_count": 2,
   "metadata": {},
   "outputs": [],
   "source": [
    "import numpy as np\n",
    "import matplotlib.pyplot as plt"
   ]
  },
  {
   "cell_type": "code",
   "execution_count": 38,
   "metadata": {},
   "outputs": [],
   "source": [
    "# suppose we have received the following data from some sensor\n",
    "data_x = np.linspace(1.0, 10.0, 100)[:, np.newaxis]\n",
    "data_x1=data_x\n",
    "data_y = np.sin(data_x) + 0.1 * np.power(data_x, 2) + 0.5 * np.random.randn(100, 1)"
   ]
  },
  {
   "cell_type": "code",
   "execution_count": 39,
   "metadata": {},
   "outputs": [
    {
     "data": {
      "text/plain": [
       "[<matplotlib.lines.Line2D at 0x7f8e84c33f98>]"
      ]
     },
     "execution_count": 39,
     "metadata": {},
     "output_type": "execute_result"
    },
    {
     "data": {
      "image/png": "[encoded data removed]",
      "text/plain": [
       "<Figure size 432x288 with 1 Axes>"
      ]
     },
     "metadata": {
      "needs_background": "light"
     },
     "output_type": "display_data"
    }
   ],
   "source": [
    "# fit a polynomial of order 6\n",
    "from sklearn.preprocessing import StandardScaler\n",
    "from sklearn.preprocessing import PolynomialFeatures\n",
    "from sklearn.linear_model import LinearRegression\n",
    "\n",
    "scale=StandardScaler()\n",
    "x=scale.fit_transform(data_x)\n",
    "poly=PolynomialFeatures(degree=6)\n",
    "x_poly =poly.fit_transform(x)\n",
    "poly.fit(x_poly,data_y)\n",
    "l = LinearRegression()\n",
    "l.fit(x_poly,data_y)\n",
    "y_pred = l.predict(x_poly)\n",
    "\n",
    "plt.grid()\n",
    "plt.scatter(data_x,data_y,color='b')\n",
    "plt.plot(data_x,y_pred,color='r')\n"
   ]
  },
  {
   "cell_type": "code",
   "execution_count": 44,
   "metadata": {},
   "outputs": [],
   "source": [
    "model_order = 6\n",
    "data_x = np.power(data_x, range(model_order)) # 1 x x^2 x^3 x^4 x^5\n",
    "data_x/= np.max(data_x, axis=0)"
   ]
  },
  {
   "cell_type": "code",
   "execution_count": 45,
   "metadata": {},
   "outputs": [],
   "source": [
    "# Implement gradient computation and theta update \n",
    "def gradient_descent(X, y, theta, alpha):\n",
    "    m,n=X.shape\n",
    "    for j in range(n):\n",
    "        for k1 in range(1500):\n",
    "            sum2=0.0\n",
    "            for i in range(m):\n",
    "                sum1=0.0\n",
    "                for k in range(n):\n",
    "                    sum1=sum1+(X[i,k]*theta[k])\n",
    "                #print(y)\n",
    "                temp_sum=(sum1-y[i])\n",
    "                sum2=sum2+(temp_sum*X[i,j])\n",
    "            theta[j]=theta[j]-(alpha*(2/m)*sum2)\n",
    "    return theta       "
   ]
  },
  {
   "cell_type": "code",
   "execution_count": 46,
   "metadata": {},
   "outputs": [],
   "source": [
    "# Call stochastic gradient descent in the main loop  \n",
    "LR =0.1\n",
    "sample_size =10\n",
    "epochs = 10\n",
    "theta = np.zeros(data_x.shape[1])\n",
    "costs = []\n",
    "for i in range(epochs): \n",
    "    idx = np.random.choice(len(data_x), sample_size, replace=False)\n",
    "    x_sample = data_x[idx]\n",
    "    y_sample = data_y[idx]\n",
    "    theta=gradient_descent(x_sample,y_sample,theta,LR)"
   ]
  },
  {
   "cell_type": "code",
   "execution_count": 47,
   "metadata": {},
   "outputs": [
    {
     "data": {
      "text/plain": [
       "array([ 1.01753332,  1.0165518 , 12.71038127,  2.03673159, -2.59210073,\n",
       "       -1.72292622])"
      ]
     },
     "execution_count": 47,
     "metadata": {},
     "output_type": "execute_result"
    }
   ],
   "source": [
    "theta"
   ]
  },
  {
   "cell_type": "code",
   "execution_count": 48,
   "metadata": {},
   "outputs": [
    {
     "data": {
      "text/plain": [
       "[<matplotlib.lines.Line2D at 0x7f8e84bfd8d0>]"
      ]
     },
     "execution_count": 48,
     "metadata": {},
     "output_type": "execute_result"
    },
    {
     "data": {
      "image/png": "[encoded data removed]",
      "text/plain": [
       "<Figure size 432x288 with 1 Axes>"
      ]
     },
     "metadata": {
      "needs_background": "light"
     },
     "output_type": "display_data"
    }
   ],
   "source": [
    "# predict y_hat using test_x and theta\n",
    "y_hat=data_x@theta\n",
    "# plot x vs y in blue\n",
    "plt.scatter(data_x1,data_y,c=\"blue\")\n",
    "# plot x vs y_hat in red\n",
    "plt.plot(data_x1,y_hat,c=\"red\")"
   ]
  },
  {
   "cell_type": "code",
   "execution_count": null,
   "metadata": {},
   "outputs": [],
   "source": []
  },
  {
   "cell_type": "code",
   "execution_count": null,
   "metadata": {},
   "outputs": [],
   "source": []
  }
 ],
 "metadata": {
  "kernelspec": {
   "display_name": "Python 3",
   "language": "python",
   "name": "python3"
  },
  "language_info": {
   "codemirror_mode": {
    "name": "ipython",
    "version": 3
   },
   "file_extension": ".py",
   "mimetype": "text/x-python",
   "name": "python",
   "nbconvert_exporter": "python",
   "pygments_lexer": "ipython3",
   "version": "3.7.3"
  }
 },
 "nbformat": 4,
 "nbformat_minor": 4
}
